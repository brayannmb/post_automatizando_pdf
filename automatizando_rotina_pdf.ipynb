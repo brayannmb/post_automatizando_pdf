{
  "nbformat": 4,
  "nbformat_minor": 0,
  "metadata": {
    "colab": {
      "name": "automatizando_rotina_pdf.ipynb",
      "provenance": [],
      "collapsed_sections": [],
      "mount_file_id": "1na-Ek8vgd-jTX-SNCzrS1SEM2wKTn52p",
      "authorship_tag": "ABX9TyP/QBoJHgQtfhqr0V6g1XOB",
      "include_colab_link": true
    },
    "kernelspec": {
      "name": "python3",
      "display_name": "Python 3"
    },
    "language_info": {
      "name": "python"
    }
  },
  "cells": [
    {
      "cell_type": "markdown",
      "metadata": {
        "id": "view-in-github",
        "colab_type": "text"
      },
      "source": [
        "<a href=\"https://colab.research.google.com/github/brayannmb/post_automatizando_pdf/blob/main/automatizando_rotina_pdf.ipynb\" target=\"_parent\"><img src=\"https://colab.research.google.com/assets/colab-badge.svg\" alt=\"Open In Colab\"/></a>"
      ]
    },
    {
      "cell_type": "markdown",
      "metadata": {
        "id": "0nzjy7J2WOKq"
      },
      "source": [
        "#**Extraindo Informações de Arquivos PDF**\n",
        "\n",
        "-----------------------------------------\n"
      ]
    },
    {
      "cell_type": "markdown",
      "metadata": {
        "id": "OwzamzZJWhIX"
      },
      "source": [
        "Com a era que estamos vivendo de Big Data, cada vez mais a quantidade de dados cresce de maneira exponencial. As empresas necessitam estar em constante atualização para ganhar competitividade de mercado. Diante deste cenário, a tecnologia tem sido usada para a otimização de processos a fim de ganho de produtividade, redução de custos e outros ganhos.\n",
        "\n",
        "Pensando nisso, criei este artigo que mostra como você pode automatizar a leitura e manipulação de informações de arquivos PDF utilizando a linguagem de programação Python."
      ]
    },
    {
      "cell_type": "markdown",
      "metadata": {
        "id": "axxSV9kGX_BS"
      },
      "source": [
        "<center><img width=\"60%\" src=\"https://github.com/brayannmb/post_automatizando_pdf/blob/main/automatizando_pdf.jpg?raw=true\"><center>\n"
      ]
    },
    {
      "cell_type": "markdown",
      "metadata": {
        "id": "5HGGTMGsYOrw"
      },
      "source": [
        "##**Importando Bibliotecas**\n",
        "É possível que você não tenha alguma dessas bibliotecas instaladas no seu Colab. Para instalar qualquer biblioteca no Google Colaboratory basta utilizar o comando pip install -q , como mostra a seguir:"
      ]
    },
    {
      "cell_type": "code",
      "metadata": {
        "id": "fjxjW4qcq_eP",
        "colab": {
          "base_uri": "https://localhost:8080/"
        },
        "outputId": "88bf38ed-46f7-4c97-99b6-e2929917828a"
      },
      "source": [
        "#instalando as bibliotecas\n",
        "\n",
        "!pip install pdfplumber -q\n",
        "!pip install os -q"
      ],
      "execution_count": null,
      "outputs": [
        {
          "output_type": "stream",
          "text": [
            "\u001b[K     |████████████████████████████████| 51kB 2.0MB/s \n",
            "\u001b[K     |████████████████████████████████| 5.6MB 3.5MB/s \n",
            "\u001b[K     |████████████████████████████████| 143kB 37.3MB/s \n",
            "\u001b[K     |████████████████████████████████| 1.9MB 30.9MB/s \n",
            "\u001b[?25h  Building wheel for pdfplumber (setup.py) ... \u001b[?25l\u001b[?25hdone\n",
            "\u001b[31mERROR: Could not find a version that satisfies the requirement os (from versions: none)\u001b[0m\n",
            "\u001b[31mERROR: No matching distribution found for os\u001b[0m\n"
          ],
          "name": "stdout"
        }
      ]
    },
    {
      "cell_type": "markdown",
      "metadata": {
        "id": "TGFahsC--Wf_"
      },
      "source": [
        "Este parâmetro `-q` utilizado no final do comando serve para não mostrar as diversas informações de instalação quando é executada a célula."
      ]
    },
    {
      "cell_type": "code",
      "metadata": {
        "id": "SKZBq1HuYW94"
      },
      "source": [
        "#importando as bibliotecas\n",
        "\n",
        "import os\n",
        "import pdfplumber"
      ],
      "execution_count": null,
      "outputs": []
    },
    {
      "cell_type": "markdown",
      "metadata": {
        "id": "garZWRswmWw4"
      },
      "source": [
        "Neste projeto utilizarei algumas bibliotecas, dentre suas funções estão:\n",
        "\n",
        "* OS: navegar pelos diretórios\n",
        "* PDFplumber: manipular arquivos pdf"
      ]
    },
    {
      "cell_type": "markdown",
      "metadata": {
        "id": "Md7sj23zcGPK"
      },
      "source": [
        "##**Visualizando Arquivos do Drive**\n",
        "\n",
        "A primeira parte deste projeto consiste em fazer a conexão do Google Colab ao Drive, assim, conseguiremos coletar os dados dos arquivos PDF que estão alocados na nuvem.\n",
        "\n",
        "A conexão entre o Colab e o Drive é muito simples, no canto esquerdo no Colab existe a aba \"Arquivos\". Clicando nela você irá encontrar 3 botões, para se conectar no Drive basta clicar no último botão, \"Mount Drive\".\n"
      ]
    },
    {
      "cell_type": "markdown",
      "metadata": {
        "id": "pFpz6AnDrCV-"
      },
      "source": [
        "<center><img width=\"50%\" src=\"https://github.com/brayannmb/Data-Science/blob/main/projeto_automatizar_pdf/foto_1.png?raw=true\"><center>"
      ]
    },
    {
      "cell_type": "markdown",
      "metadata": {
        "id": "OgTcMXFY-uPS"
      },
      "source": [
        "O código abaixo executa uma listagem dos arquivos contidos na conta do Google Drive."
      ]
    },
    {
      "cell_type": "code",
      "metadata": {
        "id": "C7MNftwhb2o1",
        "colab": {
          "base_uri": "https://localhost:8080/"
        },
        "outputId": "70b28667-1a10-4f0d-8a45-6d5777c4ef54"
      },
      "source": [
        "#listando os conteúdos da pasta My Drive\n",
        "\n",
        "!ls '/content/drive/MyDrive'"
      ],
      "execution_count": null,
      "outputs": [
        {
          "output_type": "stream",
          "text": [
            "'Colab Notebooks'   relatorios_pdf   Sigmoidal\n"
          ],
          "name": "stdout"
        }
      ]
    },
    {
      "cell_type": "markdown",
      "metadata": {
        "id": "9TNPNM1Hdr--"
      },
      "source": [
        "O comando `!ls` serve para listar arquivos de um diretório, este comando é original do Linux e pode ser utilizado no Google Colab.\n",
        "\n",
        "A seguir entre aspas é o diretório do Drive que vamos acessar. Para que não tenha algum erro futuro na digitação deste diretório, ele pode ser acessado a partir da aba Arquivos, e ser copiado pressionando o botão direito do mouse em cima do diretório desejado."
      ]
    },
    {
      "cell_type": "markdown",
      "metadata": {
        "id": "f9lQeBS4fB0v"
      },
      "source": [
        "##**Acessando Arquivos do Drive**\n",
        "\n",
        "Agora que já estamos conectados na nuvem, precisamos aprender como navegar entre os diretórios e acessar os arquivos desejados. Pensando nisso, utilizaremos a biblioteca OS."
      ]
    },
    {
      "cell_type": "markdown",
      "metadata": {
        "id": "iY6Vzxt4mPMw"
      },
      "source": [
        "O primeiro passo após se conectar com o Drive é verificar qual o diretório estamos, para isso utilizaremos o método `os.getcwd()`"
      ]
    },
    {
      "cell_type": "code",
      "metadata": {
        "id": "S6QwlGWPhpEG",
        "colab": {
          "base_uri": "https://localhost:8080/",
          "height": 35
        },
        "outputId": "474e19fd-81fd-47cc-d714-79dcdacfd363"
      },
      "source": [
        "#verificando o diretório atual\n",
        "\n",
        "os.getcwd()"
      ],
      "execution_count": null,
      "outputs": [
        {
          "output_type": "execute_result",
          "data": {
            "application/vnd.google.colaboratory.intrinsic+json": {
              "type": "string"
            },
            "text/plain": [
              "'/content'"
            ]
          },
          "metadata": {
            "tags": []
          },
          "execution_count": 4
        }
      ]
    },
    {
      "cell_type": "markdown",
      "metadata": {
        "id": "qVOZW7Ctmigr"
      },
      "source": [
        "\n",
        "Bom, mas não é neste diretório onde queremos estar, precisamos acessar o diretório drive que aparece no canto superior esquerdo da nossa tela, como mostra na foto abaixo:"
      ]
    },
    {
      "cell_type": "markdown",
      "metadata": {
        "id": "uSSSh2Kq_KPb"
      },
      "source": [
        "<center><img width=\"50%\" src=\"https://github.com/brayannmb/Data-Science/blob/main/projeto_automatizar_pdf/foto_2.png?raw=true\"><center>"
      ]
    },
    {
      "cell_type": "markdown",
      "metadata": {
        "id": "SMpNslSQrkpJ"
      },
      "source": [
        "Se clicarmos neste diretório irá mostrar a pasta My drive, onde está alocado todos os arquivos.\n",
        "\n",
        "Para acessar outros diretórios, teremos que utilizar o método `os.chdir()`da bibiloteca os."
      ]
    },
    {
      "cell_type": "code",
      "metadata": {
        "id": "hZBw_odwrKOE"
      },
      "source": [
        "#mudando de diretório\n",
        "\n",
        "os.chdir('/content/drive/MyDrive/relatorios_pdf')"
      ],
      "execution_count": null,
      "outputs": []
    },
    {
      "cell_type": "code",
      "metadata": {
        "id": "qOripwUFrils",
        "colab": {
          "base_uri": "https://localhost:8080/",
          "height": 35
        },
        "outputId": "64ccbd36-c661-4312-dbee-7840257cab21"
      },
      "source": [
        "#verificando diretório atual\n",
        "\n",
        "os.getcwd()"
      ],
      "execution_count": null,
      "outputs": [
        {
          "output_type": "execute_result",
          "data": {
            "application/vnd.google.colaboratory.intrinsic+json": {
              "type": "string"
            },
            "text/plain": [
              "'/content/drive/MyDrive/relatorios_pdf'"
            ]
          },
          "metadata": {
            "tags": []
          },
          "execution_count": 6
        }
      ]
    },
    {
      "cell_type": "markdown",
      "metadata": {
        "id": "59gUl6mlBtqX"
      },
      "source": [
        "Dica: para não errar a escrita do caminho, é possível acessar o arquivo apenas clicando nas pastas ao lado, assim, que encontrar o arquivo desejado com o botão direito do mouse podemos copiar o caminho, apenas clicando em \"Copiar caminho\", ou em inglês Copy path. A imagem a seguir demonstra essa explicação."
      ]
    },
    {
      "cell_type": "markdown",
      "metadata": {
        "id": "ZZIisl66Bw-p"
      },
      "source": [
        "<center><img width=\"60%\" src=\"https://github.com/brayannmb/Data-Science/blob/main/projeto_automatizar_pdf/foto_3.png?raw=true\"><center>\n"
      ]
    },
    {
      "cell_type": "markdown",
      "metadata": {
        "id": "o2De9Mi8tAFb"
      },
      "source": [
        "Depois de acessar o diretório desejado, o último item é escolher a pasta onde estão localizados os arquivos pdf's, no meu caso está na pasta **relatorios_pdf.**"
      ]
    },
    {
      "cell_type": "markdown",
      "metadata": {
        "id": "nNMeY9Zat4lm"
      },
      "source": [
        "Estando no diretório onde contém o conteúdo desejado, podemos finalmente abrir estes arquivos e começar a manipulá-los.\n",
        "\n",
        "Para isso, devemos utilizar a biblioteca **pdfplumber**.\n"
      ]
    },
    {
      "cell_type": "code",
      "metadata": {
        "id": "Y1WVd3T1uV16"
      },
      "source": [
        "#abrindo arquivo pdf\n",
        "\n",
        "arquivos_semana = os.listdir()\n",
        "\n",
        "pdf = pdfplumber.open('/content/drive/MyDrive/relatorios_pdf/20200801.pdf')"
      ],
      "execution_count": null,
      "outputs": []
    },
    {
      "cell_type": "markdown",
      "metadata": {
        "id": "AEgzvuH-wQiv"
      },
      "source": [
        "**Visualizando a quantidade de páginas:**"
      ]
    },
    {
      "cell_type": "code",
      "metadata": {
        "id": "h0Jxv7lCulaz",
        "colab": {
          "base_uri": "https://localhost:8080/"
        },
        "outputId": "eb19dbf3-9f3b-4ce4-bbe9-60c47baf4f93"
      },
      "source": [
        "#verificando quantidade de páginas\n",
        "\n",
        "pdf.pages"
      ],
      "execution_count": null,
      "outputs": [
        {
          "output_type": "execute_result",
          "data": {
            "text/plain": [
              "[<Page:1>]"
            ]
          },
          "metadata": {
            "tags": []
          },
          "execution_count": 8
        }
      ]
    },
    {
      "cell_type": "markdown",
      "metadata": {
        "id": "r2-YVs49wXA1"
      },
      "source": [
        "Como foi visto acima, neste meu caso só tenho uma página para utilizar. \n",
        "\n",
        "Então podemos selecionar a página que contém a informação que queremos extrair. Para isso, utlizamos o código abaixo, onde a variável page está selecionando a primeira página, de index 0.\n",
        "* `pdf.pages[0]` \n",
        "\n",
        "Vale lembrar que index em Python começa pela posição zero, no meu caso, estou acessando a página 1, mas seu index é 0."
      ]
    },
    {
      "cell_type": "code",
      "metadata": {
        "id": "zYKquAdGvLQR"
      },
      "source": [
        "#selecionando página 1\n",
        "\n",
        "page = pdf.pages[0]"
      ],
      "execution_count": null,
      "outputs": []
    },
    {
      "cell_type": "markdown",
      "metadata": {
        "id": "sxsgO4QVxJ4U"
      },
      "source": [
        "Agora que já estamos com o arquivo selecionado, precisamos extrair o seu conteúdo. O método `extract_text()` nos permite fazer exatamente isso."
      ]
    },
    {
      "cell_type": "code",
      "metadata": {
        "id": "7-xc2Nvxyf-F",
        "colab": {
          "base_uri": "https://localhost:8080/",
          "height": 100
        },
        "outputId": "2fec703c-62f9-4bc9-bb57-102ac6228d5f"
      },
      "source": [
        "#extraindo conteúdo de texto contido no arquivo PDF\n",
        "\n",
        "text = page.extract_text()\n",
        "\n",
        "#visualizando texto\n",
        "\n",
        "text"
      ],
      "execution_count": null,
      "outputs": [
        {
          "output_type": "execute_result",
          "data": {
            "application/vnd.google.colaboratory.intrinsic+json": {
              "type": "string"
            },
            "text/plain": [
              "'SIGMOIDAL\\t\\n\\t \\t\\nRelatório\\tDiário\\t\\nData:\\t01/08/2020\\t\\n\\t\\n\\t\\nRECEITA:\\tR$\\t1297.00\\t\\nDADOS\\tATUALIZADOS\\tPOR\\tCARLOS\\tMELO\\t\\n\\t\\n\\t\\nVisitantes:\\t1367\\t\\nA\\tquantidade\\tde\\tvisitantes\\tdiz\\trespeito\\ta\\tvisitantes\\túnicos\\tvisitando\\tqualquer\\t\\npágina\\tdo\\tdomínio\\tou\\tsubdomínio\\tsigmoidal.ai.\\tCompreende,\\tentão,\\tcursos,\\t\\nblogs\\te\\tlanding\\tpages.\\t\\n\\t\\nInscritos:\\t33\\t\\nÉ\\tconsiderado\\taqui\\to\\tnúmero\\tde\\tleads\\tgerados\\tpor\\tmeio\\tde\\tcadastro\\t\\nvoluntário\\tnos\\tformulários\\tdo\\tcabeçalho,\\trodapé\\tou\\tmateriais\\tricos\\t(como\\t\\neBook,\\tinfográficos,\\tentre\\toutros).\\t\\n\\t\\nAssinantes:\\t6\\t\\nClientes\\tassinantes\\tda\\tEscola\\tde\\tData\\tScience,\\tconsiderando-se\\to\\tplano\\t\\nrenovável\\tde\\tassinatura\\tmensal.\\t\\n\\t'"
            ]
          },
          "metadata": {
            "tags": []
          },
          "execution_count": 10
        }
      ]
    },
    {
      "cell_type": "markdown",
      "metadata": {
        "id": "v92kESLJyi7Q"
      },
      "source": [
        "A primeira vista, não é possível entender o que está escrito, existem muitos caracteres especiais.. de fato, está uma bagunça! Mas agora que vem a parte boa, nós iremos manipular as strings contidas neste arquivo a fim de extrair suas informações."
      ]
    },
    {
      "cell_type": "markdown",
      "metadata": {
        "id": "i-8f7ZoSykJL"
      },
      "source": [
        "##**Manipulação de Strings**\n",
        "\n",
        "Neste tópico, irei utilizar alguns métodos nativos do Python para fazer uma organização nos nossos dados, a fim de facilitar a busca por informações dentro da página selecionada."
      ]
    },
    {
      "cell_type": "code",
      "metadata": {
        "id": "Hb0y4HUIehaG",
        "colab": {
          "base_uri": "https://localhost:8080/",
          "height": 100
        },
        "outputId": "2fd63c3a-d6a9-45aa-8778-ff406d20ccd4"
      },
      "source": [
        "#visualizando a página\n",
        "\n",
        "text"
      ],
      "execution_count": null,
      "outputs": [
        {
          "output_type": "execute_result",
          "data": {
            "application/vnd.google.colaboratory.intrinsic+json": {
              "type": "string"
            },
            "text/plain": [
              "'SIGMOIDAL\\t\\n\\t \\t\\nRelatório\\tDiário\\t\\nData:\\t01/08/2020\\t\\n\\t\\n\\t\\nRECEITA:\\tR$\\t1297.00\\t\\nDADOS\\tATUALIZADOS\\tPOR\\tCARLOS\\tMELO\\t\\n\\t\\n\\t\\nVisitantes:\\t1367\\t\\nA\\tquantidade\\tde\\tvisitantes\\tdiz\\trespeito\\ta\\tvisitantes\\túnicos\\tvisitando\\tqualquer\\t\\npágina\\tdo\\tdomínio\\tou\\tsubdomínio\\tsigmoidal.ai.\\tCompreende,\\tentão,\\tcursos,\\t\\nblogs\\te\\tlanding\\tpages.\\t\\n\\t\\nInscritos:\\t33\\t\\nÉ\\tconsiderado\\taqui\\to\\tnúmero\\tde\\tleads\\tgerados\\tpor\\tmeio\\tde\\tcadastro\\t\\nvoluntário\\tnos\\tformulários\\tdo\\tcabeçalho,\\trodapé\\tou\\tmateriais\\tricos\\t(como\\t\\neBook,\\tinfográficos,\\tentre\\toutros).\\t\\n\\t\\nAssinantes:\\t6\\t\\nClientes\\tassinantes\\tda\\tEscola\\tde\\tData\\tScience,\\tconsiderando-se\\to\\tplano\\t\\nrenovável\\tde\\tassinatura\\tmensal.\\t\\n\\t'"
            ]
          },
          "metadata": {
            "tags": []
          },
          "execution_count": 11
        }
      ]
    },
    {
      "cell_type": "markdown",
      "metadata": {
        "id": "fKtqfvxSemG-"
      },
      "source": [
        "Se pararmos para analisar o resultado do texto obtido, podemos enxergar muitos `\\t` e `\\n` . Ambos são funções que nos possibilitam uma melhor visualização quando utilizamos a função print. Mas no nosso caso, estas funções estão nos atrapalhando."
      ]
    },
    {
      "cell_type": "markdown",
      "metadata": {
        "id": "N__vq79Ij4Hm"
      },
      "source": [
        "O primeiro passo será utilizar o método `.split()` que faz uma separação nas strings de acordo com o parâmetro que escolhermos dentro dos parênteses."
      ]
    },
    {
      "cell_type": "code",
      "metadata": {
        "id": "ctobFdRchUwD",
        "colab": {
          "base_uri": "https://localhost:8080/"
        },
        "outputId": "395f1562-f8d1-4173-9608-80620e33aff5"
      },
      "source": [
        "#separando as strings pela quebra de linha\n",
        "\n",
        "text.split('\\n')"
      ],
      "execution_count": null,
      "outputs": [
        {
          "output_type": "execute_result",
          "data": {
            "text/plain": [
              "['SIGMOIDAL\\t',\n",
              " '\\t \\t',\n",
              " 'Relatório\\tDiário\\t',\n",
              " 'Data:\\t01/08/2020\\t',\n",
              " '\\t',\n",
              " '\\t',\n",
              " 'RECEITA:\\tR$\\t1297.00\\t',\n",
              " 'DADOS\\tATUALIZADOS\\tPOR\\tCARLOS\\tMELO\\t',\n",
              " '\\t',\n",
              " '\\t',\n",
              " 'Visitantes:\\t1367\\t',\n",
              " 'A\\tquantidade\\tde\\tvisitantes\\tdiz\\trespeito\\ta\\tvisitantes\\túnicos\\tvisitando\\tqualquer\\t',\n",
              " 'página\\tdo\\tdomínio\\tou\\tsubdomínio\\tsigmoidal.ai.\\tCompreende,\\tentão,\\tcursos,\\t',\n",
              " 'blogs\\te\\tlanding\\tpages.\\t',\n",
              " '\\t',\n",
              " 'Inscritos:\\t33\\t',\n",
              " 'É\\tconsiderado\\taqui\\to\\tnúmero\\tde\\tleads\\tgerados\\tpor\\tmeio\\tde\\tcadastro\\t',\n",
              " 'voluntário\\tnos\\tformulários\\tdo\\tcabeçalho,\\trodapé\\tou\\tmateriais\\tricos\\t(como\\t',\n",
              " 'eBook,\\tinfográficos,\\tentre\\toutros).\\t',\n",
              " '\\t',\n",
              " 'Assinantes:\\t6\\t',\n",
              " 'Clientes\\tassinantes\\tda\\tEscola\\tde\\tData\\tScience,\\tconsiderando-se\\to\\tplano\\t',\n",
              " 'renovável\\tde\\tassinatura\\tmensal.\\t',\n",
              " '\\t']"
            ]
          },
          "metadata": {
            "tags": []
          },
          "execution_count": 12
        }
      ]
    },
    {
      "cell_type": "markdown",
      "metadata": {
        "id": "UVAWm_1Lkexz"
      },
      "source": [
        "Como podemos ver acima, este método nos resultou um lista contendo todos os valores strings do início, mas agora, de uma maneira um pouco mais legível.\n",
        "\n",
        "Mas o trabalho ainda não acabou, mesmo deixando este arquivo um pouco mais organizado, ainda precisamos acessar o valor da receita que desejamos.\n",
        "\n",
        "Para isso, irei selecionar o valor 7 da lista. No caso do Python, o index começa pelo número 0, então o valor 7 estará no index 6."
      ]
    },
    {
      "cell_type": "code",
      "metadata": {
        "id": "cyuoA7uBhbeV",
        "colab": {
          "base_uri": "https://localhost:8080/",
          "height": 35
        },
        "outputId": "75c5e999-35a5-42f0-daba-b10d2b6e029f"
      },
      "source": [
        "#selecionando a linha desejada\n",
        "\n",
        "text.split('\\n')[6]"
      ],
      "execution_count": null,
      "outputs": [
        {
          "output_type": "execute_result",
          "data": {
            "application/vnd.google.colaboratory.intrinsic+json": {
              "type": "string"
            },
            "text/plain": [
              "'RECEITA:\\tR$\\t1297.00\\t'"
            ]
          },
          "metadata": {
            "tags": []
          },
          "execution_count": 13
        }
      ]
    },
    {
      "cell_type": "markdown",
      "metadata": {
        "id": "cLTFn-00laNt"
      },
      "source": [
        "Que grande avanço, não é mesmo? Pouco atrás a nossa visualização era uma imensa quantidade caracteres que não nos diziam nada. Bom, mas ainda temos trabalho pela frente.\n",
        "\n",
        "Desta vez, irei utilizar novamente o método `split()` para fazer uma nova separação em nossas strings mas dessa vez eu quero que separa por \"\\t\". "
      ]
    },
    {
      "cell_type": "code",
      "metadata": {
        "id": "dW37S33PiGgp",
        "colab": {
          "base_uri": "https://localhost:8080/"
        },
        "outputId": "ef9d8bfd-e040-4ae1-904f-0513de3be917"
      },
      "source": [
        "#nova separação\n",
        "\n",
        "text.split('\\n')[6].split('\\t')"
      ],
      "execution_count": null,
      "outputs": [
        {
          "output_type": "execute_result",
          "data": {
            "text/plain": [
              "['RECEITA:', 'R$', '1297.00', '']"
            ]
          },
          "metadata": {
            "tags": []
          },
          "execution_count": 14
        }
      ]
    },
    {
      "cell_type": "markdown",
      "metadata": {
        "id": "r3ifjOLemCPp"
      },
      "source": [
        "Como podemos ver acima, o valor de receita buscado está na posição de index 2. Sendo assim, irei acessar o valor de receita novamente utilizando a sua posição de index."
      ]
    },
    {
      "cell_type": "code",
      "metadata": {
        "id": "HnIaWV_Ih4FL",
        "colab": {
          "base_uri": "https://localhost:8080/",
          "height": 35
        },
        "outputId": "d08f8cf2-53c1-4934-bd18-9e4ba1ddace4"
      },
      "source": [
        "#acessando o valor desejado\n",
        "\n",
        "text.split('\\n')[6].split('\\t')[2]"
      ],
      "execution_count": null,
      "outputs": [
        {
          "output_type": "execute_result",
          "data": {
            "application/vnd.google.colaboratory.intrinsic+json": {
              "type": "string"
            },
            "text/plain": [
              "'1297.00'"
            ]
          },
          "metadata": {
            "tags": []
          },
          "execution_count": 15
        }
      ]
    },
    {
      "cell_type": "markdown",
      "metadata": {
        "id": "ng-NEnPynAl4"
      },
      "source": [
        "Parece que chegamos ao resultado esperado, mas será isso é o suficiente? Será que com este resultado eu posso já posso fazer algumas operações?\n",
        "A resposta é não! \n",
        "\n",
        "Se notarmos, este valor está contido dentro de aspas simples. Em Python estas aspas nos mostram que este valor tem seu tipo primitivo como string. Isso é algo que devemos nos atentar ao trabalhar com strings."
      ]
    },
    {
      "cell_type": "markdown",
      "metadata": {
        "id": "sbBhROznGgw3"
      },
      "source": [
        "**Transformando Strings**\n",
        "\n",
        "Antes de realmente trabalhar com número que desejamos, precisamos transformar seu tipo primitivo de string para float."
      ]
    },
    {
      "cell_type": "code",
      "metadata": {
        "id": "IpBRkni4igmL",
        "colab": {
          "base_uri": "https://localhost:8080/"
        },
        "outputId": "f2ad573c-892a-416a-99d2-62f6ff19fe08"
      },
      "source": [
        "#transformação em float\n",
        "\n",
        "text = float(text.split('\\n')[6].split('\\t')[2])\n",
        "\n",
        "text"
      ],
      "execution_count": null,
      "outputs": [
        {
          "output_type": "execute_result",
          "data": {
            "text/plain": [
              "1297.0"
            ]
          },
          "metadata": {
            "tags": []
          },
          "execution_count": 16
        }
      ]
    },
    {
      "cell_type": "markdown",
      "metadata": {
        "id": "5sAaz61DGyEx"
      },
      "source": [
        "O resultado será um valor que podemos utilizar em operações aritméticas."
      ]
    },
    {
      "cell_type": "markdown",
      "metadata": {
        "id": "7TycsabVHUHM"
      },
      "source": [
        "##**Automatizando a Extração de Informações:**\n",
        "\n",
        "Bom, foi ensinado como trabalhar com um arquivo e fazer as devidas manipulações para extrair suas informações, mas isso terá que ser feito todas as vezes que desejamos coletar estes dados? A resposta é não!\n",
        "\n",
        "Neste tópico irei abordar como você pode utilizar os conceitos e métodos apresentados, com o pensamento de automatizar a rotina diária de coleta de dados a partir de arquivos PDF."
      ]
    },
    {
      "cell_type": "code",
      "metadata": {
        "id": "9GsCPdR5okk8",
        "colab": {
          "base_uri": "https://localhost:8080/"
        },
        "outputId": "bbc23b3d-e003-4c87-ecb7-3b38215beae9"
      },
      "source": [
        "#variável de contagem\n",
        "\n",
        "receita_soma = 0\n",
        "\n",
        "#loop de iteração do código mostrado ácima de transformação de Strings\n",
        "\n",
        "for arquivo in arquivos_semana:\n",
        "  relatorio = pdfplumber.open(arquivo) \n",
        "  pagina = relatorio.pages[0]\n",
        "  texto = pagina.extract_text()\n",
        "  receita = float(texto.split('\\n')[6].split('\\t')[2])\n",
        "\n",
        "  #soma de todas as receitas dos últimos dias\n",
        "  \n",
        "  receita_soma = receita_soma + receita\n",
        "  print('Arquivo: {}, valor de receita: R${}\\n'.format(arquivo, receita))\n",
        "  \n",
        "print(\"Receita total dos últimos dias: R${}\".format(receita_soma))"
      ],
      "execution_count": null,
      "outputs": [
        {
          "output_type": "stream",
          "text": [
            "Arquivo: 20200801.pdf, valor de receita: R$1297.0\n",
            "\n",
            "Arquivo: 20200802.pdf, valor de receita: R$537.0\n",
            "\n",
            "Arquivo: 20200803.pdf, valor de receita: R$554.0\n",
            "\n",
            "Arquivo: 20200804.pdf, valor de receita: R$2554.0\n",
            "\n",
            "Arquivo: 20200805.pdf, valor de receita: R$154.0\n",
            "\n",
            "Receita total dos últimos dias: R$5096.0\n"
          ],
          "name": "stdout"
        }
      ]
    },
    {
      "cell_type": "markdown",
      "metadata": {
        "id": "BqNrMxogsZUa"
      },
      "source": [
        "Como podemos ver no resultado acima, ele nos mostra o arquivo que foi aberto e qual o seu valor de receita, no final nos mostra uma soma de todas as receitas dos últimos dias."
      ]
    },
    {
      "cell_type": "markdown",
      "metadata": {
        "id": "fC1THOS59Zj_"
      },
      "source": [
        "##**Thank you!**"
      ]
    },
    {
      "cell_type": "markdown",
      "metadata": {
        "id": "5dYKGnyP9dyY"
      },
      "source": [
        "Espero que você que acompanhou este tutorial tenha gostado, eu estou aberto para sugestões de melhorias e para as dúvidas que possam surgir. Este projeto está no meu GitHub e também foi postado no meu Linkedin, aproveita e vamos nos conectar nessas redes, muito obrigado!"
      ]
    }
  ]
}